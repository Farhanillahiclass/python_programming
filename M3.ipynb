{
 "cells": [
  {
   "cell_type": "markdown",
   "id": "40a0fdbb",
   "metadata": {},
   "source": [
    "##### Variables"
   ]
  },
  {
   "cell_type": "code",
   "execution_count": null,
   "id": "0a094cfc",
   "metadata": {},
   "outputs": [],
   "source": [
    "# Creating A Variable"
   ]
  },
  {
   "cell_type": "code",
   "execution_count": 2,
   "id": "25de085b",
   "metadata": {},
   "outputs": [
    {
     "name": "stdout",
     "output_type": "stream",
     "text": [
      "10\n",
      "<class 'int'>\n"
     ]
    }
   ],
   "source": [
    "## Integer Value To The Variable\n",
    "\n",
    "a = 10\n",
    "print (a)\n",
    "print (type(a))"
   ]
  },
  {
   "cell_type": "code",
   "execution_count": 3,
   "id": "639e7e86",
   "metadata": {},
   "outputs": [
    {
     "name": "stdout",
     "output_type": "stream",
     "text": [
      "20.9\n",
      "<class 'float'>\n"
     ]
    }
   ],
   "source": [
    "## Float Value To The Variable\n",
    "\n",
    "b = 20.9 \n",
    "print (b)\n",
    "print (type(b))"
   ]
  },
  {
   "cell_type": "code",
   "execution_count": 5,
   "id": "ab8dfe1d",
   "metadata": {},
   "outputs": [
    {
     "name": "stdout",
     "output_type": "stream",
     "text": [
      "Python Programming\n",
      "<class 'str'>\n"
     ]
    }
   ],
   "source": [
    "## String Value To The Variable\n",
    "\n",
    "c = \"Python Programming\"\n",
    "print (c)\n",
    "print (type(c))"
   ]
  },
  {
   "cell_type": "code",
   "execution_count": 7,
   "id": "7b226100",
   "metadata": {},
   "outputs": [
    {
     "name": "stdout",
     "output_type": "stream",
     "text": [
      "[1, 2, 3, 4, 5]\n",
      "<class 'list'>\n"
     ]
    }
   ],
   "source": [
    "## List Store In Variable \n",
    "\n",
    "a1 = [1,2,3,4,5]\n",
    "print (a1)\n",
    "print ( type(a1))"
   ]
  },
  {
   "cell_type": "code",
   "execution_count": 8,
   "id": "7801d0d5",
   "metadata": {},
   "outputs": [
    {
     "name": "stdout",
     "output_type": "stream",
     "text": [
      "(1, 2, 3, 4, 5, 6)\n",
      "<class 'tuple'>\n"
     ]
    }
   ],
   "source": [
    "## Tuple Store In Variable \n",
    "\n",
    "b1 = (1,2,3,4,5,6)\n",
    "print (b1)\n",
    "print (type(b1))\n"
   ]
  },
  {
   "cell_type": "markdown",
   "id": "ea966f29",
   "metadata": {},
   "source": [
    "## Type Conversion"
   ]
  },
  {
   "cell_type": "code",
   "execution_count": null,
   "id": "adfed83b",
   "metadata": {},
   "outputs": [],
   "source": [
    "# Covert From One Data Type To Another Type Is Called \n",
    "# Type Conversion / Type Casting"
   ]
  },
  {
   "cell_type": "code",
   "execution_count": 3,
   "id": "c2848511",
   "metadata": {},
   "outputs": [
    {
     "name": "stdout",
     "output_type": "stream",
     "text": [
      "A :  32\n",
      "<class 'int'>\n"
     ]
    }
   ],
   "source": [
    "a = int (input (\"Enter The Value Of A : \"))\n",
    "print (\"A : \",a)\n",
    "print (type(a))"
   ]
  }
 ],
 "metadata": {
  "kernelspec": {
   "display_name": "Python 3",
   "language": "python",
   "name": "python3"
  },
  "language_info": {
   "codemirror_mode": {
    "name": "ipython",
    "version": 3
   },
   "file_extension": ".py",
   "mimetype": "text/x-python",
   "name": "python",
   "nbconvert_exporter": "python",
   "pygments_lexer": "ipython3",
   "version": "3.13.5"
  }
 },
 "nbformat": 4,
 "nbformat_minor": 5
}

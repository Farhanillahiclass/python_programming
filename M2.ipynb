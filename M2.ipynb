{
 "cells": [
  {
   "cell_type": "markdown",
   "id": "23bd1a69",
   "metadata": {},
   "source": [
    "## Python Keywords"
   ]
  },
  {
   "cell_type": "code",
   "execution_count": 2,
   "id": "998f041d",
   "metadata": {},
   "outputs": [
    {
     "name": "stdout",
     "output_type": "stream",
     "text": [
      "\n",
      "Here is a list of the Python keywords.  Enter any keyword to get more help.\n",
      "\n",
      "False               class               from                or\n",
      "None                continue            global              pass\n",
      "True                def                 if                  raise\n",
      "and                 del                 import              return\n",
      "as                  elif                in                  try\n",
      "assert              else                is                  while\n",
      "async               except              lambda              with\n",
      "await               finally             nonlocal            yield\n",
      "break               for                 not                 \n",
      "\n"
     ]
    }
   ],
   "source": [
    "help (\"keywords\")"
   ]
  },
  {
   "cell_type": "markdown",
   "id": "d32455a4",
   "metadata": {},
   "source": [
    "## Data Types"
   ]
  },
  {
   "cell_type": "markdown",
   "id": "8fc481db",
   "metadata": {},
   "source": [
    "## Numeric Datatype"
   ]
  },
  {
   "cell_type": "code",
   "execution_count": 6,
   "id": "29e6c531",
   "metadata": {},
   "outputs": [
    {
     "name": "stdout",
     "output_type": "stream",
     "text": [
      "<class 'int'>\n"
     ]
    }
   ],
   "source": [
    "## Int Datatype\n",
    "\n",
    "a = 50\n",
    "print (type(a))"
   ]
  },
  {
   "cell_type": "code",
   "execution_count": 7,
   "id": "0adddbb2",
   "metadata": {},
   "outputs": [
    {
     "name": "stdout",
     "output_type": "stream",
     "text": [
      "<class 'float'>\n"
     ]
    }
   ],
   "source": [
    "## Float Datatype\n",
    "\n",
    "b = 50.0\n",
    "print (type(b))"
   ]
  },
  {
   "cell_type": "code",
   "execution_count": 8,
   "id": "fd69b2b8",
   "metadata": {},
   "outputs": [
    {
     "name": "stdout",
     "output_type": "stream",
     "text": [
      "<class 'complex'>\n"
     ]
    }
   ],
   "source": [
    "## Complex Datatype\n",
    "\n",
    "c = 2+9j\n",
    "print (type(c))"
   ]
  },
  {
   "cell_type": "markdown",
   "id": "978c9144",
   "metadata": {},
   "source": [
    "## Boolean Datatype"
   ]
  },
  {
   "cell_type": "code",
   "execution_count": 9,
   "id": "09785ca5",
   "metadata": {},
   "outputs": [
    {
     "name": "stdout",
     "output_type": "stream",
     "text": [
      "<class 'bool'>\n"
     ]
    }
   ],
   "source": [
    "a = True\n",
    "print (type(a))"
   ]
  },
  {
   "cell_type": "code",
   "execution_count": 10,
   "id": "fe4b9778",
   "metadata": {},
   "outputs": [
    {
     "name": "stdout",
     "output_type": "stream",
     "text": [
      "<class 'bool'>\n"
     ]
    }
   ],
   "source": [
    "b = False\n",
    "print (type(b))"
   ]
  },
  {
   "cell_type": "markdown",
   "id": "c2c8eb7a",
   "metadata": {},
   "source": [
    "## Set Datatype"
   ]
  },
  {
   "cell_type": "code",
   "execution_count": 11,
   "id": "85161059",
   "metadata": {},
   "outputs": [
    {
     "name": "stdout",
     "output_type": "stream",
     "text": [
      "<class 'set'>\n"
     ]
    }
   ],
   "source": [
    "a = {'a','b','c'}\n",
    "print (type(a))"
   ]
  },
  {
   "cell_type": "markdown",
   "id": "52d3b0f7",
   "metadata": {},
   "source": [
    "## Dictionary Datatype"
   ]
  },
  {
   "cell_type": "code",
   "execution_count": 12,
   "id": "5c79d536",
   "metadata": {},
   "outputs": [
    {
     "name": "stdout",
     "output_type": "stream",
     "text": [
      "<class 'dict'>\n"
     ]
    }
   ],
   "source": [
    "a = {\"Key\":\"Value\"}\n",
    "print (type(a))"
   ]
  },
  {
   "cell_type": "markdown",
   "id": "7947aa70",
   "metadata": {},
   "source": [
    "## Sequence Datatype"
   ]
  },
  {
   "cell_type": "code",
   "execution_count": 18,
   "id": "0a70cc58",
   "metadata": {},
   "outputs": [
    {
     "name": "stdout",
     "output_type": "stream",
     "text": [
      "<class 'list'>\n"
     ]
    }
   ],
   "source": [
    "# List Datatype\n",
    "\n",
    "a1 = [1,2,3,4,5]\n",
    "print (type(a1))"
   ]
  },
  {
   "cell_type": "code",
   "execution_count": 19,
   "id": "16d9eae9",
   "metadata": {},
   "outputs": [
    {
     "name": "stdout",
     "output_type": "stream",
     "text": [
      "<class 'str'>\n"
     ]
    }
   ],
   "source": [
    "# String Datatype\n",
    "\n",
    "a = \"Python Programming \"\n",
    "print (type(a))"
   ]
  },
  {
   "cell_type": "code",
   "execution_count": 20,
   "id": "ccd33b55",
   "metadata": {},
   "outputs": [
    {
     "name": "stdout",
     "output_type": "stream",
     "text": [
      "<class 'tuple'>\n"
     ]
    }
   ],
   "source": [
    "# Tuple Datatype \n",
    "\n",
    "a = (1,2,3,4,5)\n",
    "print (type(a))"
   ]
  },
  {
   "cell_type": "code",
   "execution_count": null,
   "id": "69fd9a56",
   "metadata": {},
   "outputs": [],
   "source": []
  }
 ],
 "metadata": {
  "kernelspec": {
   "display_name": "Python 3",
   "language": "python",
   "name": "python3"
  },
  "language_info": {
   "codemirror_mode": {
    "name": "ipython",
    "version": 3
   },
   "file_extension": ".py",
   "mimetype": "text/x-python",
   "name": "python",
   "nbconvert_exporter": "python",
   "pygments_lexer": "ipython3",
   "version": "3.13.5"
  }
 },
 "nbformat": 4,
 "nbformat_minor": 5
}

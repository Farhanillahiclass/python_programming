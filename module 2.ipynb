{
 "cells": [
  {
   "cell_type": "markdown",
   "id": "a57ed2bd",
   "metadata": {},
   "source": [
    "python  loop"
   ]
  },
  {
   "cell_type": "markdown",
   "id": "9bfe0ef9",
   "metadata": {},
   "source": [
    "         While loop\n",
    "         "
   ]
  },
  {
   "cell_type": "code",
   "execution_count": 4,
   "id": "d2406be1",
   "metadata": {},
   "outputs": [
    {
     "name": "stdout",
     "output_type": "stream",
     "text": [
      "sum: 5\n",
      "sum: 9\n",
      "sum: 12\n",
      "sum: 14\n",
      "sum: 15\n",
      "bye\n"
     ]
    }
   ],
   "source": [
    "#5,6,3,2,8,7\n",
    "\n",
    "sum= 0\n",
    "n= int(input(\"N:\"))\n",
    "while  n>0:\n",
    "    sum=sum+n\n",
    "    n-=1\n",
    "    print(\"sum:\",sum)          \n",
    "print (\"bye\")\n",
    "\n"
   ]
  },
  {
   "cell_type": "markdown",
   "id": "f041e43a",
   "metadata": {},
   "source": [
    "while  loop with else part"
   ]
  },
  {
   "cell_type": "code",
   "execution_count": 1,
   "id": "345fb898",
   "metadata": {},
   "outputs": [
    {
     "name": "stdout",
     "output_type": "stream",
     "text": [
      "sum: 5\n",
      "sum: 9\n",
      "sum: 12\n",
      "sum: 14\n",
      "sum: 15\n",
      "loop finish\n",
      "bye\n"
     ]
    }
   ],
   "source": [
    "sum= 0\n",
    "n= int(input(\"N:\"))\n",
    "while  n>0:\n",
    "    sum=sum+n\n",
    "    n-=1\n",
    "    print(\"sum:\",sum)   \n",
    "else:\n",
    "    print(\"loop finish\")           \n",
    "print (\"bye\")"
   ]
  },
  {
   "cell_type": "markdown",
   "id": "be588710",
   "metadata": {},
   "source": [
    "Simple For Loop"
   ]
  },
  {
   "cell_type": "code",
   "execution_count": 2,
   "id": "630b64ee",
   "metadata": {},
   "outputs": [
    {
     "name": "stdout",
     "output_type": "stream",
     "text": [
      "python = 6\n",
      "java = 4\n",
      "angular = 7\n",
      "graphic = 7\n"
     ]
    }
   ],
   "source": [
    "word=(\"python\",\"java\", \"angular\",\"graphic\" )\n",
    "for i in word:\n",
    "    print(i,'=',len(i) )\n",
    "    "
   ]
  },
  {
   "cell_type": "markdown",
   "id": "0d4d779c",
   "metadata": {},
   "source": [
    "Nested  For LOOP\n"
   ]
  },
  {
   "cell_type": "code",
   "execution_count": 6,
   "id": "fdd81a51",
   "metadata": {},
   "outputs": [
    {
     "name": "stdout",
     "output_type": "stream",
     "text": [
      "*\n",
      "**\n",
      "***\n",
      "****\n",
      "*****\n"
     ]
    }
   ],
   "source": [
    "#*\n",
    "#**\n",
    "#***\n",
    "#****\n",
    "#*****\n",
    "\n",
    "\n",
    "#range(start point,End point,step(Jump))\n",
    "for i in range (1,6):\n",
    "    for j in range (i) :\n",
    "        print(\"*\",end=\"\")\n",
    "    print()"
   ]
  },
  {
   "cell_type": "code",
   "execution_count": 7,
   "id": "c79be2bf",
   "metadata": {},
   "outputs": [
    {
     "name": "stdout",
     "output_type": "stream",
     "text": [
      "*****\n",
      "****\n",
      "***\n",
      "**\n",
      "*\n"
     ]
    }
   ],
   "source": [
    "for i in range (5,0,-1):\n",
    "    for j in range (i) :\n",
    "        print(\"*\",end=\"\")\n",
    "    print()"
   ]
  },
  {
   "cell_type": "markdown",
   "id": "e2047fd9",
   "metadata": {},
   "source": [
    "Loop control Statement in python\n"
   ]
  },
  {
   "cell_type": "markdown",
   "id": "bf7b5153",
   "metadata": {},
   "source": [
    "Break  statement"
   ]
  },
  {
   "cell_type": "code",
   "execution_count": 9,
   "id": "9d39cb3d",
   "metadata": {},
   "outputs": [
    {
     "name": "stdout",
     "output_type": "stream",
     "text": [
      "current letter : p\n",
      "current letter : y\n",
      "current letter : t\n",
      "current letter : h\n",
      "bye\n"
     ]
    }
   ],
   "source": [
    "for letter in \"python\":\n",
    "    if letter == \"o\":\n",
    "        # here i am using break statement to break execution\n",
    "        break\n",
    "    print(\"current letter :\",letter)\n",
    "print(\"bye\")"
   ]
  },
  {
   "cell_type": "markdown",
   "id": "8a18dcaf",
   "metadata": {},
   "source": [
    "Continue   statement"
   ]
  },
  {
   "cell_type": "code",
   "execution_count": 11,
   "id": "f78fa789",
   "metadata": {},
   "outputs": [
    {
     "name": "stdout",
     "output_type": "stream",
     "text": [
      "current letter : p\n",
      "current letter : y\n",
      "current letter : t\n",
      "current letter : o\n",
      "current letter : n\n",
      "bye\n"
     ]
    }
   ],
   "source": [
    "for letter in \"python\":\n",
    "    if letter == \"h\":\n",
    "        # continue statement will skip the \"h\"\n",
    "        continue \n",
    "    print(\"current letter :\",letter)\n",
    "print(\"bye\")"
   ]
  },
  {
   "cell_type": "markdown",
   "id": "c4120e66",
   "metadata": {},
   "source": [
    "Pas statement"
   ]
  },
  {
   "cell_type": "code",
   "execution_count": 14,
   "id": "ae465d1b",
   "metadata": {},
   "outputs": [
    {
     "name": "stdout",
     "output_type": "stream",
     "text": [
      "current letter : p\n",
      "current letter : y\n",
      "current letter : t\n",
      "pass  block\n",
      "current letter : h\n",
      "current letter : o\n",
      "current letter : n\n",
      "bye\n"
     ]
    }
   ],
   "source": [
    "for letter in \"python\":\n",
    "    if letter == 'h':\n",
    "        pass \n",
    "        print(\"pass  block\")\n",
    "    print(\"current letter :\",letter)\n",
    "print(\"bye\")        "
   ]
  },
  {
   "cell_type": "markdown",
   "id": "7dee30ce",
   "metadata": {},
   "source": [
    "# to use    STRING  IN PYTHON"
   ]
  },
  {
   "cell_type": "code",
   "execution_count": 15,
   "id": "0321a15c",
   "metadata": {},
   "outputs": [
    {
     "name": "stdout",
     "output_type": "stream",
     "text": [
      "Hello word\n",
      "Hello word\n"
     ]
    }
   ],
   "source": [
    "# single  quote  in string  \n",
    "print('Hello word') \n",
    "\n",
    "# double quote i string   \n",
    "print(\"Hello word\")"
   ]
  },
  {
   "cell_type": "markdown",
   "id": "91df5ccf",
   "metadata": {},
   "source": [
    "# multi line string"
   ]
  },
  {
   "cell_type": "code",
   "execution_count": 16,
   "id": "00d69fee",
   "metadata": {},
   "outputs": [
    {
     "name": "stdout",
     "output_type": "stream",
     "text": [
      " python is booming in the market , \n",
      "python is  smart language,\n",
      "python is used in AI, machine  learning, data  science\n",
      "\n"
     ]
    }
   ],
   "source": [
    "a= \"\"\" python is booming in the market , \n",
    "python is  smart language,\n",
    "python is used in AI, machine  learning, data  science\n",
    "\"\"\"\n",
    "\n",
    "print(a)"
   ]
  },
  {
   "cell_type": "markdown",
   "id": "6371ce73",
   "metadata": {},
   "source": [
    "# update string"
   ]
  },
  {
   "cell_type": "code",
   "execution_count": null,
   "id": "91f60659",
   "metadata": {},
   "outputs": [
    {
     "name": "stdout",
     "output_type": "stream",
     "text": [
      "hello world!\n",
      "update string : hello python\n"
     ]
    }
   ],
   "source": [
    "a=\"hello world!\"\n",
    "print(a)\n",
    "print(\"update string :\",a[:6]+\"python\")"
   ]
  },
  {
   "cell_type": "markdown",
   "id": "afb1d31c",
   "metadata": {},
   "source": [
    " # string slicing"
   ]
  },
  {
   "cell_type": "code",
   "execution_count": 2,
   "id": "a2025de6",
   "metadata": {},
   "outputs": [
    {
     "name": "stdout",
     "output_type": "stream",
     "text": [
      "index 1 : e\n",
      "index the value between 1 to 6: ello \n",
      "index till 6: hello p\n",
      "last value : n\n"
     ]
    }
   ],
   "source": [
    "a=\"hello python\"\n",
    "\n",
    "# access the value of index 1\n",
    "print(\"index 1 :\",a[1])  \n",
    "\n",
    "#acess the value between index 1 to 6  \n",
    "print(\"index the value between 1 to 6:\", a[1:6])\n",
    "\n",
    "#acess the value till index 6  \n",
    "print(\"index till 6:\", a[:7])\n",
    "\n",
    "#acess the last value from string\n",
    "print(\"last value :\",a[-1])"
   ]
  },
  {
   "cell_type": "markdown",
   "id": "f0782414",
   "metadata": {},
   "source": [
    "# String in -Built Methods"
   ]
  },
  {
   "cell_type": "code",
   "execution_count": 6,
   "id": "66f68914",
   "metadata": {},
   "outputs": [
    {
     "name": "stdout",
     "output_type": "stream",
     "text": [
      "Hello and welcome to python\n"
     ]
    }
   ],
   "source": [
    "# Capitilaze() : this method  converts the  first character in string\n",
    "a=\"hello and welcome to python\"\n",
    "x=a.capitalize()\n",
    "print(x)\n"
   ]
  },
  {
   "cell_type": "code",
   "execution_count": 7,
   "id": "905d5d3c",
   "metadata": {},
   "outputs": [
    {
     "name": "stdout",
     "output_type": "stream",
     "text": [
      " hello and welcome to python\n"
     ]
    }
   ],
   "source": [
    "#casefold() : this method convert all capital letter into small\n",
    "a=\" Hello and welcome to python\"\n",
    "x=a.casefold()\n",
    "print(x)\n"
   ]
  },
  {
   "cell_type": "code",
   "execution_count": 8,
   "id": "46192032",
   "metadata": {},
   "outputs": [
    {
     "name": "stdout",
     "output_type": "stream",
     "text": [
      "python\n",
      "       python       \n"
     ]
    }
   ],
   "source": [
    "#center(): this  is use to bring your into center  \n",
    "a=\"python\"\n",
    "print(a)\n",
    "\n",
    "x=a.center(20)\n",
    "# update using center method  \n",
    "print(x)\n"
   ]
  },
  {
   "cell_type": "code",
   "execution_count": 10,
   "id": "8005d32c",
   "metadata": {},
   "outputs": [
    {
     "name": "stdout",
     "output_type": "stream",
     "text": [
      "2\n"
     ]
    }
   ],
   "source": [
    "#count(): this method is used to count the repeated word in string\n",
    "\n",
    "a=\"i love arabic,arabic is a great and comprehensive language\"\n",
    "x=a.count(\"arabic\")\n",
    "\n",
    "print(x)"
   ]
  },
  {
   "cell_type": "markdown",
   "id": "6f49736e",
   "metadata": {},
   "source": [
    "# how to compare  string "
   ]
  },
  {
   "cell_type": "code",
   "execution_count": 17,
   "id": "ffcbbc78",
   "metadata": {},
   "outputs": [
    {
     "name": "stdout",
     "output_type": "stream",
     "text": [
      "True\n"
     ]
    }
   ],
   "source": [
    "str1 =\"ali\"\n",
    "str2 =\"ali\"\n",
    "result=str1==str2\n",
    "print(result)"
   ]
  },
  {
   "cell_type": "code",
   "execution_count": 18,
   "id": "ec1d1694",
   "metadata": {},
   "outputs": [
    {
     "name": "stdout",
     "output_type": "stream",
     "text": [
      "False\n"
     ]
    }
   ],
   "source": [
    "str1=\"school\"\n",
    "str2=\"academy\"\n",
    "result =str1==str2\n",
    "print(result)"
   ]
  },
  {
   "cell_type": "code",
   "execution_count": 20,
   "id": "7cd1e24c",
   "metadata": {},
   "outputs": [
    {
     "name": "stdout",
     "output_type": "stream",
     "text": [
      "False\n"
     ]
    }
   ],
   "source": [
    "str1=\"a\"\n",
    "str2=\"b\"\n",
    "result=str1>str2\n",
    "print(result)\n"
   ]
  }
 ],
 "metadata": {
  "kernelspec": {
   "display_name": "Python 3",
   "language": "python",
   "name": "python3"
  },
  "language_info": {
   "codemirror_mode": {
    "name": "ipython",
    "version": 3
   },
   "file_extension": ".py",
   "mimetype": "text/x-python",
   "name": "python",
   "nbconvert_exporter": "python",
   "pygments_lexer": "ipython3",
   "version": "3.13.5"
  }
 },
 "nbformat": 4,
 "nbformat_minor": 5
}
